{
  "nbformat": 4,
  "nbformat_minor": 0,
  "metadata": {
    "colab": {
      "name": "2021-03-02-Learner.ipynb",
      "provenance": [],
      "authorship_tag": "ABX9TyP9AengaYoY7dAv9llQCw8/",
      "include_colab_link": true
    },
    "kernelspec": {
      "name": "python3",
      "display_name": "Python 3"
    }
  },
  "cells": [
    {
      "cell_type": "markdown",
      "metadata": {
        "id": "view-in-github",
        "colab_type": "text"
      },
      "source": [
        "<a href=\"https://colab.research.google.com/github/FrederikKnudsen/Fastpage/blob/master/2021_03_02_Learner.ipynb\" target=\"_parent\"><img src=\"https://colab.research.google.com/assets/colab-badge.svg\" alt=\"Open In Colab\"/></a>"
      ]
    },
    {
      "cell_type": "markdown",
      "metadata": {
        "id": "xdnpi1CaTfmu"
      },
      "source": [
        "# Learner"
      ]
    },
    {
      "cell_type": "code",
      "metadata": {
        "id": "oMRi7o6cT3wb",
        "colab": {
          "base_uri": "https://localhost:8080/"
        },
        "outputId": "f34ddd0e-6f35-4352-bd22-2a1861f64a6f"
      },
      "source": [
        "#hide\r\n",
        "!pip install -Uqq fastbook\r\n",
        "import fastbook\r\n",
        "fastbook.setup_book()"
      ],
      "execution_count": 1,
      "outputs": [
        {
          "output_type": "stream",
          "text": [
            "\u001b[K     |████████████████████████████████| 727kB 8.4MB/s \n",
            "\u001b[K     |████████████████████████████████| 194kB 26.8MB/s \n",
            "\u001b[K     |████████████████████████████████| 1.2MB 25.1MB/s \n",
            "\u001b[K     |████████████████████████████████| 51kB 5.7MB/s \n",
            "\u001b[K     |████████████████████████████████| 61kB 6.8MB/s \n",
            "\u001b[K     |████████████████████████████████| 51kB 5.9MB/s \n",
            "\u001b[?25hMounted at /content/gdrive\n"
          ],
          "name": "stdout"
        }
      ]
    },
    {
      "cell_type": "code",
      "metadata": {
        "id": "9aA--e5kT8c8"
      },
      "source": [
        "#hide\r\n",
        "from fastai.vision.all import *\r\n",
        "from fastbook import *\r\n",
        "\r\n",
        "matplotlib.rc('image', cmap='Greys')"
      ],
      "execution_count": 3,
      "outputs": []
    },
    {
      "cell_type": "markdown",
      "metadata": {
        "id": "xsV69P9ftE7l"
      },
      "source": [
        "## Beginning"
      ]
    },
    {
      "cell_type": "code",
      "metadata": {
        "id": "T8m6tNQPT89p"
      },
      "source": [
        "# Random start vægt for hver pixel\r\n",
        "def init_params(size, std=1.0): return (torch.randn(size)*std).requires_grad_()"
      ],
      "execution_count": 4,
      "outputs": []
    },
    {
      "cell_type": "code",
      "metadata": {
        "id": "ZRwsDjv_tOgF"
      },
      "source": [
        "weights = init_params((28*28,1))\r\n",
        "bias = init_params(1)"
      ],
      "execution_count": 5,
      "outputs": []
    },
    {
      "cell_type": "code",
      "metadata": {
        "colab": {
          "base_uri": "https://localhost:8080/"
        },
        "id": "o5tEPxtguHGT",
        "outputId": "c2479d66-2ea4-4d32-dc6c-0660d22ed110"
      },
      "source": [
        "# Datasæt url\r\n",
        "path = untar_data(URLs.MNIST_SAMPLE)\r\n",
        "Path.BASE_PATH = path\r\n",
        "(path/'train').ls()"
      ],
      "execution_count": 9,
      "outputs": [
        {
          "output_type": "execute_result",
          "data": {
            "text/plain": [
              "(#2) [Path('train/3'),Path('train/7')]"
            ]
          },
          "metadata": {
            "tags": []
          },
          "execution_count": 9
        }
      ]
    },
    {
      "cell_type": "code",
      "metadata": {
        "id": "Y0XrfHNJvB11"
      },
      "source": [
        "# Sortering\r\n",
        "threes = (path/'train'/'3').ls().sorted()\r\n",
        "sevens = (path/'train'/'7').ls().sorted()"
      ],
      "execution_count": 10,
      "outputs": []
    },
    {
      "cell_type": "code",
      "metadata": {
        "colab": {
          "base_uri": "https://localhost:8080/",
          "height": 85
        },
        "id": "lbvaGsWFtast",
        "outputId": "9747979f-7176-49f0-870d-fa65275c6342"
      },
      "source": [
        "# Average pixel værdi for begge grupper, 3 og 7\r\n",
        "seven_tensors = [tensor(Image.open(o)) for o in sevens]\r\n",
        "three_tensors = [tensor(Image.open(o)) for o in threes]\r\n",
        "len(three_tensors),len(seven_tensors)\r\n",
        "\r\n",
        "show_image(three_tensors[1]);"
      ],
      "execution_count": 13,
      "outputs": [
        {
          "output_type": "display_data",
          "data": {
            "image/png": "[encoded data removed]",
            "text/plain": [
              "<Figure size 72x72 with 1 Axes>"
            ]
          },
          "metadata": {
            "tags": [],
            "needs_background": "light"
          }
        }
      ]
    }
  ]
}